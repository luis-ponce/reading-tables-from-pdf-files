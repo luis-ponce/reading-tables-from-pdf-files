{
 "cells": [
  {
   "cell_type": "code",
   "execution_count": 1,
   "id": "separated-marker",
   "metadata": {},
   "outputs": [],
   "source": [
    "import pandas as pd\n",
    "import numpy as np\n",
    "import math\n",
    "import tabula\n",
    "\n",
    "\n",
    "import warnings\n",
    "warnings.filterwarnings('ignore')"
   ]
  },
  {
   "cell_type": "code",
   "execution_count": 2,
   "id": "20757053-e66f-469b-ae11-0cb49590c02e",
   "metadata": {},
   "outputs": [],
   "source": [
    "def get_info_from_text(text):\n",
    "    \n",
    "    if text.startswith('Mud System:'):\n",
    "        return text[12:]\n",
    "    if text.startswith('Density'):\n",
    "        return text[8: ]\n",
    "    if text.startswith('Vis (Drilling)'):\n",
    "        return text[15:]\n",
    "    if text.startswith('Vis (Case)'):\n",
    "        return text[11:]\n",
    "    if text.startswith('PV'):\n",
    "        return text[3:]\n",
    "    if text.startswith('YP'):\n",
    "        return text[3:]\n",
    "    if text.startswith('Gels'):\n",
    "        return text[5:]\n",
    "    if text.startswith('Density'):\n",
    "        return text[8:]\n",
    "    if text.startswith('Vis'):\n",
    "        return text[4:] \n",
    "    if text.startswith('Calcium'):\n",
    "        return text[8:] \n",
    "    if text.startswith('Inhibition'):\n",
    "        return text[11:] \n",
    "    if text.startswith('Sweeps'):\n",
    "        return text[7:]\n",
    "    if text.startswith('Fluid Loss'):\n",
    "        return text[10:]    \n",
    "    if text.startswith('pH'):\n",
    "        return text[3:]       \n",
    "    return np.nan"
   ]
  },
  {
   "cell_type": "code",
   "execution_count": 3,
   "id": "b0c10087-8a77-4377-874e-faa007be6c64",
   "metadata": {},
   "outputs": [],
   "source": [
    "def get_initial_from_text(text):\n",
    "    \n",
    "    if text.startswith('Mud System:'):\n",
    "        return 'Mud System:'\n",
    "    if text.startswith('Density'):\n",
    "        return 'Density'\n",
    "    if text.startswith('Vis (Drilling)'):\n",
    "        return 'Vis (Drilling)'\n",
    "    if text.startswith('Vis (Case)'):\n",
    "        return 'Vis (Case)'\n",
    "    if text.startswith('PV'):\n",
    "        return 'PV'\n",
    "    if text.startswith('YP'):\n",
    "        return 'YP'\n",
    "    if text.startswith('Gels'):\n",
    "        return 'Gels'\n",
    "    if text.startswith('Density'):\n",
    "        return 'Density'\n",
    "    if text.startswith('Vis'):\n",
    "        return 'Vis' \n",
    "    if text.startswith('Calcium'):\n",
    "        return 'Calcium' \n",
    "    if text.startswith('Inhibition'):\n",
    "        return 'Inhibition' \n",
    "    if text.startswith('Sweeps'):\n",
    "        return 'Sweeps'\n",
    "    if text.startswith('Fluid Loss'):\n",
    "        return 'Fluid Loss'    \n",
    "    if text.startswith('pH'):\n",
    "        return 'pH'      \n",
    "    return text"
   ]
  },
  {
   "cell_type": "code",
   "execution_count": 123,
   "id": "little-responsibility",
   "metadata": {},
   "outputs": [],
   "source": [
    "def get_table1_limits(table):\n",
    "    key_wrd = 'Total Depth HZ'\n",
    "    first_col = 'Unnamed: 0'\n",
    "    table_ending = np.where( table[first_col]  == key_wrd)[0][0] + 1\n",
    "    cols = table.columns[:4]\n",
    "    \n",
    "    return table[:table_ending][cols]\n",
    "\n",
    "def fixing_table1_colnames(table):\n",
    "    result = table.copy()\n",
    "\n",
    "    for col in result.columns:\n",
    "        col_name = col + result[col].fillna('').iloc[0] + result[col].fillna('').iloc[1]\n",
    "        col_name = col_name.replace('Unnamed: 0', '')\n",
    "        result.rename(columns = {col: col_name}, inplace = True)\n",
    "    return result[3:].dropna(axis=0, how='all')\n",
    "\n",
    "def fixing_table1_fnames(table):\n",
    "    result = table.copy()\n",
    "    for i in range(len(result)):\n",
    "        if 'Mud Up' in str(result['Formations'].iloc[i]):\n",
    "            result['Formations'].iloc[i] = 'Mud Up'\n",
    "        if 'Heel' in str(result['Formations'].iloc[i]):\n",
    "            result['Formations'].iloc[i] = 'Heel'\n",
    "    return result"
   ]
  },
  {
   "cell_type": "code",
   "execution_count": 5,
   "id": "coated-ghana",
   "metadata": {},
   "outputs": [],
   "source": [
    "def get_table2_limits(table):\n",
    "    res = table.copy()\n",
    "    key_wrd = 'Mud Master'\n",
    "    \n",
    "    if 'HOLE FLUID' in table.columns:\n",
    "        first_col = 'HOLE FLUID'\n",
    "    if ('HOLE' in table.columns) & ('FLUID' in table.columns):\n",
    "        res['HOLE'] = res.HOLE.fillna('') + ' ' + res.FLUID.fillna('')\n",
    "        res.HOLE = res.HOLE.apply(lambda x: x.rstrip())\n",
    "        res.rename(columns = {'HOLE': 'HOLE FLUID'}, inplace = True)\n",
    "        first_col = 'HOLE FLUID'\n",
    "#         res.drop(['FLUID'], axis = 1, inplace = True)\n",
    "        \n",
    "    res[first_col] = res[first_col].str.replace('Interval', 'INTERVAL')\n",
    "    res[first_col] = res[first_col].str.replace('interval', 'INTERVAL')\n",
    "    \n",
    "\n",
    "    \n",
    "    \n",
    "    table_ending = np.where( res[first_col]  == key_wrd)[0][0] \n",
    "    \n",
    "    \n",
    "    cols = res.columns[np.where(res.columns == 'HOLE FLUID')[0][0]:]\n",
    "    res = res[:table_ending][cols]\n",
    "    \n",
    "    res.rename(columns = {res.columns[1]: 'Unnamed: 2',res.columns[2]: 'Unnamed: 3', res.columns[3]: 'Unnamed: 4'}, inplace = True)\n",
    "    \n",
    "    return res\n",
    "\n",
    "def fixing_table2_colnames(table):\n",
    "    result = table.copy()\n",
    "    result.rename(columns = {'HOLE FLUID':'HOLE INTERVAL', 'Unnamed: 3':'FLUID PROPERTIES',\n",
    "                             'Unnamed: 4':'COMMENTS AND SUGGESTIONS', 'Unnamed: 2':'Features' }, inplace = True)\n",
    "    \n",
    "    return result[2:].dropna(axis=0, how='all')\n",
    "\n",
    "\n",
    "def fixing_table2_sub_headings(table):\n",
    "    result = table.copy()\n",
    "    result.loc[result['HOLE INTERVAL'] == 'SURFACE HOLE','HOLE INTERVAL'] = 'SURFACE HOLE' + ' --- '\\\n",
    "                                                             + str(result['FLUID PROPERTIES'][result['HOLE INTERVAL'] == 'SURFACE HOLE'].iloc[0]) + ' --- '\\\n",
    "                                                            + str(result['COMMENTS AND SUGGESTIONS'][result['HOLE INTERVAL'] == 'SURFACE HOLE'].iloc[0])\n",
    "    \n",
    "    \n",
    "    result.loc[result['HOLE INTERVAL'] == 'TOP HOLE','HOLE INTERVAL'] = 'TOP HOLE' + ' --- '\\\n",
    "                                                             + str(result['FLUID PROPERTIES'][result['HOLE INTERVAL'] == 'TOP HOLE'].iloc[0]) + ' --- '\\\n",
    "                                                             + str(result['COMMENTS AND SUGGESTIONS'][result['HOLE INTERVAL'] == 'TOP HOLE'].iloc[0])\n",
    "\n",
    "    \n",
    "    result.loc[result['HOLE INTERVAL'] == 'BUILD SECTION','HOLE INTERVAL'] = 'BUILD SECTION' + ' --- '\\\n",
    "                                                             + str(result['FLUID PROPERTIES'][result['HOLE INTERVAL'] == 'BUILD SECTION'].iloc[0]) + ' --- '\\\n",
    "                                                             + str(result['COMMENTS AND SUGGESTIONS'][result['HOLE INTERVAL'] == 'BUILD SECTION'].iloc[0])\n",
    "    \n",
    "    result.loc[result['HOLE INTERVAL'] == 'HORIZONTAL SECTION','HOLE INTERVAL'] = 'HORIZONTAL SECTION' + ' --- '\\\n",
    "                                                             + str(result['FLUID PROPERTIES'][result['HOLE INTERVAL'] == 'HORIZONTAL SECTION'].iloc[0]) + ' --- '\\\n",
    "                                                             + str(result['COMMENTS AND SUGGESTIONS'][result['HOLE INTERVAL'] == 'HORIZONTAL SECTION'].iloc[0])\n",
    "    \n",
    "    return result\n",
    "\n",
    "def fixing_table2_comments(table):\n",
    "    result = table.copy()\n",
    "    result = result.fillna('')\n",
    "    result['COMMENTS AND SUGGESTIONS'] = result['Features'] + result['FLUID PROPERTIES'] + result['COMMENTS AND SUGGESTIONS']\n",
    "    return result.drop('FLUID PROPERTIES', axis = 1)"
   ]
  },
  {
   "cell_type": "code",
   "execution_count": 6,
   "id": "advance-clinic",
   "metadata": {},
   "outputs": [
    {
     "data": {
      "text/plain": [
       "''"
      ]
     },
     "execution_count": 6,
     "metadata": {},
     "output_type": "execute_result"
    }
   ],
   "source": [
    "def get_point_string_p1(string):\n",
    "    if string == np.nan:\n",
    "        return string\n",
    "    st = str(string)\n",
    "    char = '•'\n",
    "    if char in st:\n",
    "        return st[st.find(char):]\n",
    "    \n",
    "    return np.nan\n",
    "\n",
    "def get_point_string_p0(string):\n",
    "    st = str(string)\n",
    "    char = '•'\n",
    "    if char in st:\n",
    "        return st[:st.find(char)].rstrip()\n",
    "    return string\n",
    "\n",
    "def remove_2plos_from_Ca(string):\n",
    "    try:\n",
    "        if math.isnan(string):\n",
    "            return string\n",
    "    except:\n",
    "        return string.replace('2+','')\n",
    "# get_point_string_p0('1000 - 1010 kg/m3 • Dump all surface mud and')\n",
    "remove_2plos_from_Ca('2+')"
   ]
  },
  {
   "cell_type": "code",
   "execution_count": 7,
   "id": "binding-hormone",
   "metadata": {},
   "outputs": [],
   "source": [
    "def aggretating_comments_column(table):\n",
    "    result = table.copy()\n",
    "\n",
    "    n1 = np.where( result['HOLE INTERVAL'].str.contains('SURFACE HOLE'))[0][0] \n",
    "    n2 = np.where( result['HOLE INTERVAL'].str.contains('TOP HOLE'))[0][0] \n",
    "    n3 = np.where( result['HOLE INTERVAL'].str.contains('BUILD SECTION'))[0][0]\n",
    "    n4 = np.where( result['HOLE INTERVAL'].str.contains('HORIZONTAL SECTION'))[0][0]\n",
    "    result['COMMENTS AND SUGGESTIONS'] = result['COMMENTS AND SUGGESTIONS'].fillna('')\n",
    "    text1 = ''\n",
    "    for i in range(n1 + 1 ,n2):\n",
    "        text1 += result['COMMENTS AND SUGGESTIONS'].iloc[i]\n",
    "        if i > n1 + 1:\n",
    "            result['COMMENTS AND SUGGESTIONS'].iloc[i] = np.nan\n",
    "    result['COMMENTS AND SUGGESTIONS'].iloc[n1] = np.nan\n",
    "    result['Features'] = result['Features'].apply(lambda x: get_point_string_p0(x))\n",
    "    result['Features'].iloc[n1] = np.nan\n",
    "    \n",
    "    result['COMMENTS AND SUGGESTIONS'].iloc[n1 + 1] = text1\n",
    "    \n",
    "    text1 = ''\n",
    "    for i in range(n2 + 1 ,n3):\n",
    "        text1 += result['COMMENTS AND SUGGESTIONS'].iloc[i]\n",
    "        if i > n2 + 1:\n",
    "            result['COMMENTS AND SUGGESTIONS'].iloc[i] = np.nan\n",
    "    result['COMMENTS AND SUGGESTIONS'].iloc[n2] = np.nan\n",
    "    \n",
    "    result['Features'].iloc[n2] = np.nan\n",
    "    result['COMMENTS AND SUGGESTIONS'].iloc[n2 + 1] = text1\n",
    "    \n",
    "    \n",
    "    text1 = ''\n",
    "    for i in range(n3 + 1 ,n4):\n",
    "        text1 += result['COMMENTS AND SUGGESTIONS'].iloc[i]\n",
    "        if i > n3 + 1:\n",
    "            result['COMMENTS AND SUGGESTIONS'].iloc[i] = np.nan\n",
    "    result['COMMENTS AND SUGGESTIONS'].iloc[n3] = np.nan\n",
    "    result['Features'].iloc[n3] = np.nan\n",
    "    \n",
    "    result['COMMENTS AND SUGGESTIONS'].iloc[n3 + 1] = text1    \n",
    "\n",
    "    text1 = ''\n",
    "    for i in range(n4 + 1 , len(result)):\n",
    "        text1 += result['COMMENTS AND SUGGESTIONS'].iloc[i]\n",
    "        if i > n4 + 1:\n",
    "            result['COMMENTS AND SUGGESTIONS'].iloc[i] = np.nan\n",
    "            \n",
    "\n",
    "    \n",
    "    result['COMMENTS AND SUGGESTIONS'].iloc[n4] = np.nan\n",
    "    result['Features'].iloc[n4] = np.nan\n",
    "    result['Features'] = result['Features'].apply(lambda x: remove_2plos_from_Ca(x))\n",
    "    result['COMMENTS AND SUGGESTIONS'].iloc[n4 + 1] = text1 \n",
    "    \n",
    "    result['COMMENTS AND SUGGESTIONS'] = result['COMMENTS AND SUGGESTIONS'].apply(lambda x: get_point_string_p1(x))\n",
    "    result['HOLE INTERVAL'] = result['HOLE INTERVAL'].apply(lambda x: get_point_string_p0(x))\n",
    "    result['HOLE INTERVAL'] = result['HOLE INTERVAL'].replace('', np.nan)\n",
    "    \n",
    "    \n",
    "    return result.dropna(axis=0, how='all')"
   ]
  },
  {
   "cell_type": "code",
   "execution_count": null,
   "id": "disciplinary-commander",
   "metadata": {},
   "outputs": [],
   "source": []
  },
  {
   "cell_type": "code",
   "execution_count": 8,
   "id": "every-sunrise",
   "metadata": {},
   "outputs": [],
   "source": [
    "def get_features_column(table):\n",
    "    results = table.copy()\n",
    "    results['Features'] = results['HOLE INTERVAL'].apply(lambda x: get_info_from_text(x))\n",
    "    results['HOLE INTERVAL'] = results['HOLE INTERVAL'].apply(lambda x: get_initial_from_text(x))\n",
    "    return results"
   ]
  },
  {
   "cell_type": "code",
   "execution_count": 9,
   "id": "molecular-kingston",
   "metadata": {},
   "outputs": [],
   "source": [
    "def get_table3(table):\n",
    "    \n",
    "    \n",
    "    \n",
    "    t1 = table.copy()\n",
    "    if len(t1.columns) > 4:\n",
    "        \n",
    "        # for i in range(len(t1)):\n",
    "        \n",
    "        t1.drop(['Unnamed: 0'], axis = 1, inplace = True)\n",
    "        t1.dropna(axis = 0, how = 'all', inplace = True)\n",
    "        t1.rename(columns= {'Unnamed: 1': 'Section'}, inplace = True)\n",
    "\n",
    "    if len(t1.columns) <= 4:\n",
    "        t1.dropna(axis = 0, how = 'all', inplace = True)\n",
    "        t1.rename(columns= {'Unnamed: 0': 'Section'}, inplace = True)        \n",
    "        \n",
    "    c1 = t1.columns[1] + str(t1[t1.columns[1]].iloc[0]) + str(t1[t1.columns[1]].iloc[1])\n",
    "    t1.rename(columns= {'Section': c1}, inplace = True)\n",
    "    t1 = t1[2:]\n",
    "    t1.rename(columns = {t1.columns[1]:t1[t1.columns[1]].iloc[0], \n",
    "                         t1.columns[2]:t1[t1.columns[2]].iloc[0],\n",
    "                         t1.columns[3]:t1[t1.columns[3]].iloc[0]} , inplace = True)\n",
    "    t1[t1.columns[1]].iloc[0] = np.nan\n",
    "    t1[t1.columns[2]].iloc[0] = np.nan\n",
    "    t1[t1.columns[3]].iloc[0] = np.nan\n",
    "    return t1\n",
    "\n",
    "def check_number(string):\n",
    "    return string.replace('.','').replace('<','').replace('>','').isnumeric()"
   ]
  },
  {
   "cell_type": "code",
   "execution_count": 10,
   "id": "precise-creek",
   "metadata": {},
   "outputs": [],
   "source": [
    "def get_pnsu(string):\n",
    "    \n",
    "#     print(string)\n",
    "    string1 = string.replace('< ', '<')\n",
    "    string1 = string1.replace('> ', '>')\n",
    "    \n",
    "    #patches\n",
    "    string1 = string1.replace('Hyperdrill AF 204', 'Hyperdrill AF204')\n",
    "    string1 = string1.replace('Mileage $/km 500', 'Mileage 1 $/km 500')\n",
    "    \n",
    "    subs = string1.split(' ')\n",
    "    ntest = []\n",
    "    for s in subs:\n",
    "#         print(str(s))\n",
    "        ntest.append(check_number(s))\n",
    "    nums = np.where( ntest )[0]\n",
    "    pn = np.nan\n",
    "    if len(nums) > 0:\n",
    "        pn = ''\n",
    "        for i in range(nums[0]):\n",
    "            pn += (subs[i])\n",
    "            pn += ' '\n",
    "            pn = pn[:-1]\n",
    "            \n",
    "    size = np.nan\n",
    "    units = np.nan\n",
    "    if len(nums) == 0:\n",
    "        size = np.nan\n",
    "        units = np.nan\n",
    "\n",
    "    if len(nums) == 1:        \n",
    "        units = np.nan\n",
    "#         print(len(subs))\n",
    "#         print(nums[0])\n",
    "        if len(subs) == nums[0] + 1:\n",
    "#             print('here1')\n",
    "            size = subs[nums[0]]\n",
    "        if len(subs) == nums[0] + 2:\n",
    "#             print('here')\n",
    "            size = subs[nums[0]] + subs[nums[0] + 1]\n",
    "    if len(nums) == 2:\n",
    "        if nums[0] + 1 == nums[1]:\n",
    "            size = subs[nums[0]]\n",
    "            units = subs[nums[1]]\n",
    "        if nums[0] + 2 == nums[1]:\n",
    "            size = subs[nums[0]] + subs[nums[0] + 1]\n",
    "            units = subs[nums[1]]\n",
    "\n",
    "    return [pn, size, units]"
   ]
  },
  {
   "cell_type": "code",
   "execution_count": 11,
   "id": "2be5577e-75ee-4648-90ef-342be0601434",
   "metadata": {},
   "outputs": [],
   "source": [
    "def get_price_nan(x):\n",
    "    if '$' in x:\n",
    "        return x\n",
    "    return np.nan\n",
    "\n",
    "def remove_price(x):\n",
    "    if '$' in x.split(' ')[-1]:\n",
    "        char = ''\n",
    "        for el in x.split(' ')[:-1]:\n",
    "            char += el + ' '\n",
    "        return char[:-1]\n",
    "    return x"
   ]
  },
  {
   "cell_type": "code",
   "execution_count": 12,
   "id": "moving-constraint",
   "metadata": {},
   "outputs": [],
   "source": [
    "def get_price_nan(x):\n",
    "    if '$' in x:\n",
    "        return x\n",
    "    return np.nan\n",
    "\n",
    "def split_pnsu(table):\n",
    "    t1 = table.copy()\n",
    "    # print('Unnamed' in t1.columns[0])\n",
    "    \n",
    "    if ('Unnamed' in t1.columns[0]):\n",
    "        for i in range(len(t1)):\n",
    "            if ('$' in str(t1[t1.columns[0]].fillna('').iloc[i])):\n",
    "                t1[t1.columns[-1]].iloc[i] = t1[t1.columns[0]].iloc[i]\n",
    "                \n",
    "        t1 = t1.drop([t1.columns[0]], axis = 1 )     \n",
    "    \n",
    "    if ('Disc Price' in t1.columns) == False:\n",
    "        t1['Disc Price'] = t1[t1.columns[1]].fillna('').apply( lambda x: get_price_nan(x.split(' ')[-1]) )\n",
    "        t1[t1.columns[1]] = t1[t1.columns[1]].fillna('').apply(lambda x: remove_price(x) )\n",
    "    \n",
    "    t1[t1.columns[1]] = t1[t1.columns[1]].fillna('')\n",
    "    t1[t1.columns[1]] = t1[t1.columns[1]].apply(lambda x: get_pnsu(x))\n",
    "    \n",
    "    t1.rename(columns = {t1.columns[0]:'Well Interval'}, inplace = True)\n",
    "    t1 = t1.replace('Well Interval',np.nan)\n",
    "    t1 = t1.dropna(axis = 0, how = 'all')\n",
    "    \n",
    "    t1['Product Name'] = t1[t1.columns[1]].apply(lambda x: x[0])\n",
    "    t1['Size'] = t1[t1.columns[1]].apply(lambda x: x[1])\n",
    "    t1['Units'] = t1[t1.columns[1]].apply(lambda x: x[2])\n",
    "    return t1[[t1.columns[0],'Product Name', 'Size', 'Units', 'Disc Price', 'Total Estimate']].dropna(axis = 0, how = 'all')"
   ]
  },
  {
   "cell_type": "markdown",
   "id": "64f9e492-5d50-421c-ae91-3dcfe9c0d034",
   "metadata": {},
   "source": [
    "# Sample of tables "
   ]
  },
  {
   "cell_type": "code",
   "execution_count": 13,
   "id": "ef2f5e10-45f9-4420-ac5d-baaa63e450b7",
   "metadata": {},
   "outputs": [],
   "source": [
    "import warnings\n",
    "warnings.filterwarnings('ignore')"
   ]
  },
  {
   "cell_type": "code",
   "execution_count": 14,
   "id": "76400be9-cbea-429e-9964-7d37d6d3ad34",
   "metadata": {},
   "outputs": [],
   "source": [
    "pairs = [\n",
    "         ['files_pdf/39-1 @ 3-29-29-1 W4 Dark Warrior HZ Hayter.pdf', 'files_pdf/39-1 @ 3-29-39-1 W4 Dark Warrior HZ Hayter Stick.pdf' ],\n",
    "         ['files_pdf/39-2 @ 1-10-39-2 W4 Surge Energy  HZ 104 Provost.pdf','files_pdf/39-2 @ 102 3-10-39-2 W4 Surge Energy Inc HZ Provost Stick.pdf'],\n",
    "         ['files_pdf/39-2 @ 102 3-10-39-2 W4   Surge Energy Inc HZ Provost .pdf','files_pdf/39-2 @ 102 3-10-39-2 W4 Surge Energy Inc HZ Provost Stick.pdf'],\n",
    "         ['files_pdf/39-2 @ 15-15-39-2 W4 Surge Energy  HZ Provost.pdf','files_pdf/39-2 @ 15-15-39-2 W4 Surge Energy HZ Provost Stick.pdf'],\n",
    "         ['files_pdf/39-2 @ 15-7-39-2 W4 Surge Energy  HZ Provost rev .pdf','files_pdf/39-2 @ 15-7-39-2 W4 Surge Energy HZ Provost Stick.pdf'],\n",
    "         ['files_pdf/39-2 @ 16-7-39-2 W4 Surge Energy  HZ Provost.pdf','files_pdf/39-2 @ 16-7-39-2 W4 Surge Energy HZ Provost Stick.pdf'],\n",
    "         ['files_pdf/39-2 @ 2-17-39-2 W4 Surge Energy  HZ Provost with surface drilled.pdf', 'files_pdf/39-2 @ 2-17-39-2 W4 Surge Energy HZ Provost Stick with sur csg .pdf'],\n",
    "         ['files_pdf/39-2 @ 4-10-39-2 W4 Surge Energy HZ Provost .pdf','files_pdf/39-2 @ 4-10-39-2 W4 Surge Energy HZ Provost Stick.pdf'],\n",
    "         ['files_pdf/39-2 @ 4-11-39-2 W4 Surge Energy  106 HZ Provost .pdf','files_pdf/39-2 @ 4-11-39-2 W4 Surge Energy HZ Provost Stick.pdf'],\n",
    "         ['files_pdf/39-2 @ 5-11-39-2 W4 Surge Energy  103 HZ Provost .pdf','files_pdf/39-2 @ 5-11-39-2 W4 Surge Energy HZ Provost Stick.pdf'],\n",
    "         ['files_pdf/39-2 @ 8-21-39-2 W4 Surge Energy 103  HZ Provost  w surface .pdf', 'files_pdf/39-2 @ 8-21-39-2 W4 Surge Energy HZ Provost Stick.pdf'],\n",
    "         ['files_pdf/39-3 @ 2-1-39-3W4 Surge Energy  HZ Provost   .pdf', 'files_pdf/39-3 @2-1-39-3 W4 Surge Energy HZ Provost Stick.pdf']\n",
    "        ]"
   ]
  },
  {
   "cell_type": "code",
   "execution_count": 143,
   "id": "f1cbbd7e-1163-4419-8495-783b497c2bd1",
   "metadata": {},
   "outputs": [],
   "source": [
    "def process_pairs(pair):\n",
    "    tables = tabula.read_pdf(pair[1], pages = \"all\")\n",
    "    t1 = get_table1_limits(tables[0])\n",
    "    t1 = fixing_table1_colnames(t1)\n",
    "    t1 = fixing_table1_fnames(t1)\n",
    "    \n",
    "    t2 = get_table2_limits(tables[0])\n",
    "    t2 = fixing_table2_colnames(t2)\n",
    "    t2 = fixing_table2_sub_headings(t2)\n",
    "    t2 = fixing_table2_comments(t2)\n",
    "    t2 = get_features_column(t2)\n",
    "    t2 = aggretating_comments_column(t2)\n",
    "    \n",
    "    tables = tabula.read_pdf(pair[0], pages = \"2\")\n",
    "    t3 = get_table3(tables[0])\n",
    "    t3 = split_pnsu(t3)\n",
    "    \n",
    "    return t1, t2, t3\n"
   ]
  },
  {
   "cell_type": "code",
   "execution_count": 144,
   "id": "9d9e17b5-5e24-4056-91eb-ac56498d6c83",
   "metadata": {},
   "outputs": [
    {
     "name": "stderr",
     "output_type": "stream",
     "text": [
      "Got stderr: Feb. 28, 2022 9:53:07 A.M. org.apache.pdfbox.pdmodel.font.PDTrueTypeFont <init>\n",
      "WARNING: Using fallback font 'LiberationSans' for 'TimesNewRomanPSMT'\n",
      "Feb. 28, 2022 9:53:08 A.M. org.apache.pdfbox.pdmodel.font.PDTrueTypeFont <init>\n",
      "WARNING: Using fallback font 'LiberationSans' for 'TimesNewRomanPSMT'\n",
      "\n"
     ]
    }
   ],
   "source": [
    "t01, t02, t03 = process_pairs(pairs[0])"
   ]
  },
  {
   "cell_type": "code",
   "execution_count": 147,
   "id": "15d2ff08-e22e-4b74-ad11-28b5d2b20a5c",
   "metadata": {},
   "outputs": [
    {
     "data": {
      "text/html": [
       "<div>\n",
       "<style scoped>\n",
       "    .dataframe tbody tr th:only-of-type {\n",
       "        vertical-align: middle;\n",
       "    }\n",
       "\n",
       "    .dataframe tbody tr th {\n",
       "        vertical-align: top;\n",
       "    }\n",
       "\n",
       "    .dataframe thead th {\n",
       "        text-align: right;\n",
       "    }\n",
       "</style>\n",
       "<table border=\"1\" class=\"dataframe\">\n",
       "  <thead>\n",
       "    <tr style=\"text-align: right;\">\n",
       "      <th></th>\n",
       "      <th>Formations</th>\n",
       "      <th>mSSMDm m</th>\n",
       "      <th>TVDm</th>\n",
       "      <th>H2S%</th>\n",
       "    </tr>\n",
       "  </thead>\n",
       "  <tbody>\n",
       "    <tr>\n",
       "      <th>3</th>\n",
       "      <td>SURFACE CASING</td>\n",
       "      <td>107m</td>\n",
       "      <td>107m</td>\n",
       "      <td>NaN</td>\n",
       "    </tr>\n",
       "    <tr>\n",
       "      <th>5</th>\n",
       "      <td>Belly River</td>\n",
       "      <td>151m</td>\n",
       "      <td>151m</td>\n",
       "      <td>NaN</td>\n",
       "    </tr>\n",
       "    <tr>\n",
       "      <th>6</th>\n",
       "      <td>Lea Park</td>\n",
       "      <td>177m</td>\n",
       "      <td>177m</td>\n",
       "      <td>NaN</td>\n",
       "    </tr>\n",
       "    <tr>\n",
       "      <th>8</th>\n",
       "      <td>BGWP</td>\n",
       "      <td>299m</td>\n",
       "      <td>299m</td>\n",
       "      <td>NaN</td>\n",
       "    </tr>\n",
       "    <tr>\n",
       "      <th>9</th>\n",
       "      <td>KOP</td>\n",
       "      <td>378m</td>\n",
       "      <td>378m</td>\n",
       "      <td>NaN</td>\n",
       "    </tr>\n",
       "    <tr>\n",
       "      <th>10</th>\n",
       "      <td>Colorado</td>\n",
       "      <td>440m</td>\n",
       "      <td>438m</td>\n",
       "      <td>NaN</td>\n",
       "    </tr>\n",
       "    <tr>\n",
       "      <th>11</th>\n",
       "      <td>Second White Specks</td>\n",
       "      <td>NaN</td>\n",
       "      <td>548m</td>\n",
       "      <td>NaN</td>\n",
       "    </tr>\n",
       "    <tr>\n",
       "      <th>12</th>\n",
       "      <td>Base Fish Scales</td>\n",
       "      <td>594m</td>\n",
       "      <td>590m</td>\n",
       "      <td>NaN</td>\n",
       "    </tr>\n",
       "    <tr>\n",
       "      <th>13</th>\n",
       "      <td>Viking  Sandstone</td>\n",
       "      <td>659m</td>\n",
       "      <td>635m</td>\n",
       "      <td>NaN</td>\n",
       "    </tr>\n",
       "    <tr>\n",
       "      <th>14</th>\n",
       "      <td>Joli Fou</td>\n",
       "      <td>695m</td>\n",
       "      <td>659m</td>\n",
       "      <td>NaN</td>\n",
       "    </tr>\n",
       "    <tr>\n",
       "      <th>15</th>\n",
       "      <td>Colony</td>\n",
       "      <td>740m</td>\n",
       "      <td>684m</td>\n",
       "      <td>NaN</td>\n",
       "    </tr>\n",
       "    <tr>\n",
       "      <th>16</th>\n",
       "      <td>Mud Up</td>\n",
       "      <td>741m</td>\n",
       "      <td>NaN</td>\n",
       "      <td>NaN</td>\n",
       "    </tr>\n",
       "    <tr>\n",
       "      <th>18</th>\n",
       "      <td>Sparky Coal</td>\n",
       "      <td>864m</td>\n",
       "      <td>734m</td>\n",
       "      <td>0.41</td>\n",
       "    </tr>\n",
       "    <tr>\n",
       "      <th>19</th>\n",
       "      <td>Sparky SS</td>\n",
       "      <td>866m</td>\n",
       "      <td>735m</td>\n",
       "      <td>0.41</td>\n",
       "    </tr>\n",
       "    <tr>\n",
       "      <th>20</th>\n",
       "      <td>Sparky B</td>\n",
       "      <td>888m</td>\n",
       "      <td>741m</td>\n",
       "      <td>0.41</td>\n",
       "    </tr>\n",
       "    <tr>\n",
       "      <th>21</th>\n",
       "      <td>Sparky C</td>\n",
       "      <td>930m</td>\n",
       "      <td>746m</td>\n",
       "      <td>0.41</td>\n",
       "    </tr>\n",
       "    <tr>\n",
       "      <th>22</th>\n",
       "      <td>Heel</td>\n",
       "      <td>962m</td>\n",
       "      <td>748m</td>\n",
       "      <td>0.41</td>\n",
       "    </tr>\n",
       "    <tr>\n",
       "      <th>23</th>\n",
       "      <td>Total Depth HZ</td>\n",
       "      <td>2354m</td>\n",
       "      <td>748m</td>\n",
       "      <td>0.41</td>\n",
       "    </tr>\n",
       "  </tbody>\n",
       "</table>\n",
       "</div>"
      ],
      "text/plain": [
       "             Formations mSSMDm m  TVDm  H2S%\n",
       "3        SURFACE CASING     107m  107m   NaN\n",
       "5           Belly River     151m  151m   NaN\n",
       "6              Lea Park     177m  177m   NaN\n",
       "8                  BGWP     299m  299m   NaN\n",
       "9                   KOP     378m  378m   NaN\n",
       "10             Colorado     440m  438m   NaN\n",
       "11  Second White Specks      NaN  548m   NaN\n",
       "12     Base Fish Scales     594m  590m   NaN\n",
       "13    Viking  Sandstone     659m  635m   NaN\n",
       "14             Joli Fou     695m  659m   NaN\n",
       "15               Colony     740m  684m   NaN\n",
       "16               Mud Up     741m   NaN   NaN\n",
       "18          Sparky Coal     864m  734m  0.41\n",
       "19            Sparky SS     866m  735m  0.41\n",
       "20             Sparky B     888m  741m  0.41\n",
       "21             Sparky C     930m  746m  0.41\n",
       "22                 Heel     962m  748m  0.41\n",
       "23       Total Depth HZ    2354m  748m  0.41"
      ]
     },
     "execution_count": 147,
     "metadata": {},
     "output_type": "execute_result"
    }
   ],
   "source": [
    "t01"
   ]
  },
  {
   "cell_type": "code",
   "execution_count": 146,
   "id": "39d51a08-9dd6-41dc-ba3d-0548ba729eba",
   "metadata": {
    "collapsed": true,
    "jupyter": {
     "outputs_hidden": true
    },
    "tags": []
   },
   "outputs": [
    {
     "name": "stderr",
     "output_type": "stream",
     "text": [
      "Got stderr: Feb. 28, 2022 9:53:10 A.M. org.apache.pdfbox.pdmodel.font.PDTrueTypeFont <init>\n",
      "WARNING: Using fallback font 'LiberationSans' for 'TimesNewRomanPSMT'\n",
      "Feb. 28, 2022 9:53:11 A.M. org.apache.pdfbox.pdmodel.font.PDTrueTypeFont <init>\n",
      "WARNING: Using fallback font 'LiberationSans' for 'TimesNewRomanPSMT'\n",
      "\n",
      "Got stderr: Feb. 28, 2022 9:53:14 A.M. org.apache.pdfbox.pdmodel.font.PDTrueTypeFont <init>\n",
      "WARNING: Using fallback font 'LiberationSans' for 'TimesNewRomanPSMT'\n",
      "Feb. 28, 2022 9:53:14 A.M. org.apache.pdfbox.pdmodel.font.PDTrueTypeFont <init>\n",
      "WARNING: Using fallback font 'LiberationSans' for 'TimesNewRomanPSMT'\n",
      "\n",
      "Got stderr: Feb. 28, 2022 9:53:17 A.M. org.apache.pdfbox.pdmodel.font.PDTrueTypeFont <init>\n",
      "WARNING: Using fallback font 'LiberationSans' for 'TimesNewRomanPSMT'\n",
      "Feb. 28, 2022 9:53:18 A.M. org.apache.pdfbox.pdmodel.font.PDTrueTypeFont <init>\n",
      "WARNING: Using fallback font 'LiberationSans' for 'TimesNewRomanPSMT'\n",
      "\n",
      "Got stderr: Feb. 28, 2022 9:53:21 A.M. org.apache.pdfbox.pdmodel.font.PDTrueTypeFont <init>\n",
      "WARNING: Using fallback font 'LiberationSans' for 'TimesNewRomanPSMT'\n",
      "Feb. 28, 2022 9:53:21 A.M. org.apache.pdfbox.pdmodel.font.PDTrueTypeFont <init>\n",
      "WARNING: Using fallback font 'LiberationSans' for 'TimesNewRomanPSMT'\n",
      "\n",
      "Got stderr: Feb. 28, 2022 9:53:24 A.M. org.apache.pdfbox.pdmodel.font.PDTrueTypeFont <init>\n",
      "WARNING: Using fallback font 'LiberationSans' for 'TimesNewRomanPSMT'\n",
      "Feb. 28, 2022 9:53:25 A.M. org.apache.pdfbox.pdmodel.font.PDTrueTypeFont <init>\n",
      "WARNING: Using fallback font 'LiberationSans' for 'TimesNewRomanPSMT'\n",
      "\n",
      "Got stderr: Feb. 28, 2022 9:53:27 A.M. org.apache.pdfbox.pdmodel.font.PDTrueTypeFont <init>\n",
      "WARNING: Using fallback font 'LiberationSans' for 'TimesNewRomanPSMT'\n",
      "Feb. 28, 2022 9:53:28 A.M. org.apache.pdfbox.pdmodel.font.PDTrueTypeFont <init>\n",
      "WARNING: Using fallback font 'LiberationSans' for 'TimesNewRomanPSMT'\n",
      "\n",
      "Got stderr: Feb. 28, 2022 9:53:31 A.M. org.apache.pdfbox.pdmodel.font.PDTrueTypeFont <init>\n",
      "WARNING: Using fallback font 'LiberationSans' for 'TimesNewRomanPSMT'\n",
      "Feb. 28, 2022 9:53:32 A.M. org.apache.pdfbox.pdmodel.font.PDTrueTypeFont <init>\n",
      "WARNING: Using fallback font 'LiberationSans' for 'TimesNewRomanPSMT'\n",
      "\n",
      "Got stderr: Feb. 28, 2022 9:53:34 A.M. org.apache.pdfbox.pdmodel.font.PDTrueTypeFont <init>\n",
      "WARNING: Using fallback font 'LiberationSans' for 'TimesNewRomanPSMT'\n",
      "Feb. 28, 2022 9:53:35 A.M. org.apache.pdfbox.pdmodel.font.PDTrueTypeFont <init>\n",
      "WARNING: Using fallback font 'LiberationSans' for 'TimesNewRomanPSMT'\n",
      "\n",
      "Got stderr: Feb. 28, 2022 9:53:37 A.M. org.apache.pdfbox.pdmodel.font.PDTrueTypeFont <init>\n",
      "WARNING: Using fallback font 'LiberationSans' for 'TimesNewRomanPSMT'\n",
      "Feb. 28, 2022 9:53:38 A.M. org.apache.pdfbox.pdmodel.font.PDTrueTypeFont <init>\n",
      "WARNING: Using fallback font 'LiberationSans' for 'TimesNewRomanPSMT'\n",
      "\n",
      "Got stderr: Feb. 28, 2022 9:53:40 A.M. org.apache.pdfbox.pdmodel.font.PDTrueTypeFont <init>\n",
      "WARNING: Using fallback font 'LiberationSans' for 'TimesNewRomanPSMT'\n",
      "Feb. 28, 2022 9:53:41 A.M. org.apache.pdfbox.pdmodel.font.PDTrueTypeFont <init>\n",
      "WARNING: Using fallback font 'LiberationSans' for 'TimesNewRomanPSMT'\n",
      "\n",
      "Got stderr: Feb. 28, 2022 9:53:44 A.M. org.apache.pdfbox.pdmodel.font.PDTrueTypeFont <init>\n",
      "WARNING: Using fallback font 'LiberationSans' for 'TimesNewRomanPSMT'\n",
      "Feb. 28, 2022 9:53:44 A.M. org.apache.pdfbox.pdmodel.font.PDTrueTypeFont <init>\n",
      "WARNING: Using fallback font 'LiberationSans' for 'TimesNewRomanPSMT'\n",
      "\n"
     ]
    }
   ],
   "source": [
    "t1 = []\n",
    "t2 = []\n",
    "t3 = []\n",
    "\n",
    "for i in range(11):\n",
    "    t01, t03, t03 = process_pairs(pairs[i])\n",
    "    t01.to_csv(pairs[i][0][:-4] + ' table1.csv', index = False)\n",
    "    t02.to_csv(pairs[i][0][:-4] + ' table2.csv', index = False)\n",
    "    t03.to_csv(pairs[i][1][:-4] + ' table3.csv', index = False)\n",
    "    t1.append(t01)\n",
    "    t2.append(t02)\n",
    "    t3.append(t03)"
   ]
  },
  {
   "cell_type": "code",
   "execution_count": 148,
   "id": "f78b2134-4973-488f-8c13-78cd35e3e3e0",
   "metadata": {},
   "outputs": [
    {
     "name": "stdout",
     "output_type": "stream",
     "text": [
      "%pylab is deprecated, use %matplotlib inline and import the required libraries.\n",
      "Populating the interactive namespace from numpy and matplotlib\n"
     ]
    }
   ],
   "source": [
    "%pylab inline"
   ]
  },
  {
   "cell_type": "code",
   "execution_count": 149,
   "id": "806fe3f5-4297-42fb-9b46-99fe3192e8c4",
   "metadata": {},
   "outputs": [
    {
     "data": {
      "text/plain": [
       "22135.75"
      ]
     },
     "execution_count": 149,
     "metadata": {},
     "output_type": "execute_result"
    }
   ],
   "source": [
    "def get_cost(string):\n",
    "    st1 = string.replace('$', '')\n",
    "    st1 = st1.replace(',', '')\n",
    "    try:\n",
    "        return float(st1)\n",
    "    except:\n",
    "        print(sting + ' does not meet the proper format' )\n",
    "        \n",
    "def get_total_cost(table):\n",
    "    string = np.array(table['Total Estimate'].dropna())[-1]\n",
    "    return get_cost(string)\n",
    "\n",
    "get_total_cost(t03)"
   ]
  },
  {
   "cell_type": "code",
   "execution_count": 150,
   "id": "88b99b4c-c74e-45fc-9a9c-0ca081dbd20b",
   "metadata": {},
   "outputs": [
    {
     "data": {
      "text/plain": [
       "[<matplotlib.lines.Line2D at 0x7f17e16a9d60>]"
      ]
     },
     "execution_count": 150,
     "metadata": {},
     "output_type": "execute_result"
    },
    {
     "data": {
      "image/png": "[encoded data removed]",
      "text/plain": [
       "<Figure size 432x288 with 1 Axes>"
      ]
     },
     "metadata": {
      "needs_background": "light"
     },
     "output_type": "display_data"
    }
   ],
   "source": [
    "total_cost = []\n",
    "for i in range(11):\n",
    "    total_cost.append(get_total_cost(t3[i]))\n",
    "    \n",
    "plt.plot(total_cost)"
   ]
  },
  {
   "cell_type": "code",
   "execution_count": 152,
   "id": "400ec237-6fc3-4382-9127-3574bcb51998",
   "metadata": {},
   "outputs": [
    {
     "data": {
      "text/plain": [
       "838.0"
      ]
     },
     "execution_count": 152,
     "metadata": {},
     "output_type": "execute_result"
    }
   ],
   "source": [
    "def get_depth(string):\n",
    "    try:\n",
    "        return float(string.replace('m', ''))\n",
    "    except:\n",
    "        print(sting + ' does not meet the proper format' ) \n",
    "        \n",
    "def get_total_depht(table):\n",
    "    string = np.array(table['mSSMDm m'].dropna())[-1]\n",
    "    return get_depth(string)\n",
    "\n",
    "def get_TVDm(table):\n",
    "    string = np.array(table['TVDm'].dropna())[-1]\n",
    "    return get_depth(string)\n",
    "\n",
    "def get_MudUp(table):\n",
    "    string = table['mSSMDm m'][table['Formations'] == 'Mud Up'].iloc[0]\n",
    "    return get_depth(string)\n",
    "\n",
    "def get_Heel(table):\n",
    "    try:\n",
    "        string = table['mSSMDm m'][table['Formations'] == 'Heel'].iloc[0]\n",
    "        return get_depth(string)\n",
    "    except:\n",
    "        return 0.0\n",
    "\n",
    "get_Heel(t1[0])"
   ]
  },
  {
   "cell_type": "code",
   "execution_count": 153,
   "id": "00b5e4e6-a129-49a9-b907-a18df140a8fc",
   "metadata": {
    "tags": []
   },
   "outputs": [
    {
     "data": {
      "image/png": "[encoded data removed]",
      "text/plain": [
       "<Figure size 360x360 with 1 Axes>"
      ]
     },
     "metadata": {
      "needs_background": "light"
     },
     "output_type": "display_data"
    }
   ],
   "source": [
    "total_depth = []\n",
    "for i in range(11):\n",
    "    total_depth.append(get_total_depht(t1[i]))\n",
    "    \n",
    "MudUp_depth = []\n",
    "for i in range(11):\n",
    "    MudUp_depth.append(get_MudUp(t1[i]))    \n",
    "    \n",
    "TVDm_depth = []\n",
    "for i in range(11):\n",
    "    TVDm_depth.append(get_TVDm(t1[i]))      \n",
    "    \n",
    "Heel_depth = []\n",
    "for i in range(11):\n",
    "    Heel_depth.append(get_Heel(t1[i]))     \n",
    "    \n",
    "    \n",
    "fig = plt.figure(figsize = (5,5))    \n",
    "plt.plot(Heel_depth, total_cost,'o')\n",
    "plt.xlabel('total depth (m)', fontsize = 18)\n",
    "plt.ylabel('mud cost ($)', fontsize = 18)\n",
    "plt.savefig('figure1.png', dpi = 500)\n",
    "plt.show()"
   ]
  },
  {
   "cell_type": "code",
   "execution_count": 59,
   "id": "e4c917c7-9f37-45b5-b108-48be92c0ee8d",
   "metadata": {},
   "outputs": [
    {
     "data": {
      "image/png": "[encoded data removed]",
      "text/plain": [
       "<Figure size 360x360 with 1 Axes>"
      ]
     },
     "metadata": {
      "needs_background": "light"
     },
     "output_type": "display_data"
    }
   ],
   "source": [
    "def get_number_of_layers(table):\n",
    "    return len(table['Formations'].dropna()) -1\n",
    "\n",
    "total_layers = []\n",
    "for i in range(11):\n",
    "    total_layers.append(get_number_of_layers(t1[i]))\n",
    "    \n",
    "    \n",
    "fig = plt.figure(figsize = (5,5))      \n",
    "plt.plot(total_layers, total_cost,'o')\n",
    "plt.xlabel('number of layers', fontsize = 18)\n",
    "plt.ylabel('mud cost ($)', fontsize = 18)\n",
    "plt.savefig('figure2.png', dpi = 500)\n",
    "plt.show()"
   ]
  },
  {
   "cell_type": "code",
   "execution_count": 170,
   "id": "4c4e880e-c53d-49c3-8fb3-db9231a26bc1",
   "metadata": {},
   "outputs": [],
   "source": [
    "from sklearn.linear_model import LinearRegression\n",
    "\n",
    "x = pd.DataFrame()\n",
    "x['Depth'] = total_depth\n",
    "x['Layers'] = total_layers\n",
    "x['MudUp'] = MudUp_depth\n",
    "x['Heel'] = Heel_depth\n",
    "x['TVDm'] = TVDm_depth\n",
    "# x.head()\n",
    "\n",
    "y0 = total_cost"
   ]
  },
  {
   "cell_type": "code",
   "execution_count": 171,
   "id": "10d36c60-2212-4300-a010-3a31162ef904",
   "metadata": {},
   "outputs": [],
   "source": [
    "reg = LinearRegression().fit(x, y0)\n",
    "y0_p = reg.predict(x)"
   ]
  },
  {
   "cell_type": "code",
   "execution_count": 195,
   "id": "f6b69b88-7999-4c10-925b-c22ae66cc1a7",
   "metadata": {},
   "outputs": [
    {
     "data": {
      "text/plain": [
       "[<matplotlib.lines.Line2D at 0x7f17e0f9ba60>]"
      ]
     },
     "execution_count": 195,
     "metadata": {},
     "output_type": "execute_result"
    },
    {
     "data": {
      "image/png": "[encoded data removed]",
      "text/plain": [
       "<Figure size 360x360 with 1 Axes>"
      ]
     },
     "metadata": {
      "needs_background": "light"
     },
     "output_type": "display_data"
    }
   ],
   "source": [
    "fig = plt.figure(figsize = (5,5))\n",
    "plt.plot([min(min(y0),min(y0_p))*0.95 , max(max(y0),max(y0_p))*1.05], [min(min(y0),min(y0_p))*0.95, max(max(y0),max(y0_p))*1.05] ,'-', color = 'black')\n",
    "plt.plot(y0, y0_p, 'o')"
   ]
  }
 ],
 "metadata": {
  "kernelspec": {
   "display_name": "Python 3 (ipykernel)",
   "language": "python",
   "name": "python3"
  },
  "language_info": {
   "codemirror_mode": {
    "name": "ipython",
    "version": 3
   },
   "file_extension": ".py",
   "mimetype": "text/x-python",
   "name": "python",
   "nbconvert_exporter": "python",
   "pygments_lexer": "ipython3",
   "version": "3.8.12"
  }
 },
 "nbformat": 4,
 "nbformat_minor": 5
}
